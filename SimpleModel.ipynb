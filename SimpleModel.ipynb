{
 "cells": [
  {
   "cell_type": "code",
   "execution_count": 1,
   "metadata": {
    "collapsed": true
   },
   "outputs": [],
   "source": [
    "import autograd.numpy as np\n",
    "import numpy.random as rnd\n",
    "import matplotlib.pyplot as plt\n",
    "import seaborn\n",
    "import time\n"
   ]
  },
  {
   "cell_type": "markdown",
   "metadata": {},
   "source": [
    "# Example, Simple Linear Model"
   ]
  },
  {
   "cell_type": "code",
   "execution_count": 2,
   "metadata": {},
   "outputs": [
    {
     "name": "stdout",
     "output_type": "stream",
     "text": [
      "[-9. -5. -6.  2.  1.]\n"
     ]
    }
   ],
   "source": [
    "def linear_model(x, weights):\n",
    "    return weights[0] + np.sum(x*weights[1:])\n",
    "\n",
    "xSet = [rnd.normal(size = 4) for i in xrange(50)]\n",
    "\n",
    "\n",
    "optw = rnd.randint(-10, 10, size = 5).astype('float64')\n",
    "ySet = np.array([linear_model(x, optw) for x in xSet]) + rnd.normal(size = len(xSet))\n",
    "print(optw)"
   ]
  },
  {
   "cell_type": "code",
   "execution_count": 3,
   "metadata": {
    "collapsed": true
   },
   "outputs": [],
   "source": [
    "S = zip(xSet, ySet)"
   ]
  },
  {
   "cell_type": "code",
   "execution_count": 4,
   "metadata": {},
   "outputs": [
    {
     "data": {
      "text/plain": [
       "[(array([-0.20018685, -0.25012634, -0.55787214,  0.0167039 ]),\n",
       "  -8.4328507486615152),\n",
       " (array([ 0.98266685, -1.08854541,  0.73551494,  0.02805773]),\n",
       "  -4.5436114945634491),\n",
       " (array([-1.31784553,  0.02330851,  1.09291352,  0.94662018]),\n",
       "  -0.5617216298637222),\n",
       " (array([-1.21100346,  0.2193245 , -1.9089821 , -0.19479574]),\n",
       "  -7.5629981264538557),\n",
       " (array([-2.63906237, -0.35430306,  0.48821395, -1.75494382]),\n",
       "  6.6743791820218794),\n",
       " (array([-0.97776622,  0.60799746, -0.19152911,  0.53244721]),\n",
       "  -7.7007060324746517)]"
      ]
     },
     "execution_count": 4,
     "metadata": {},
     "output_type": "execute_result"
    }
   ],
   "source": [
    "S[:6]"
   ]
  },
  {
   "cell_type": "code",
   "execution_count": 5,
   "metadata": {},
   "outputs": [
    {
     "name": "stdout",
     "output_type": "stream",
     "text": [
      "19747.252892\n"
     ]
    }
   ],
   "source": [
    "theta = rnd.randint(-10, 10, size = 5) + rnd.normal(size = 5)\n",
    "# At first sight, we can go with a simple for loop over all samples - but this is not the most effcient way:\n",
    "# we should use the dot product between the data matrix and the weight in this simple case\n",
    "predictedY = [linear_model(x, theta) for x in xSet]\n",
    "# Print the error\n",
    "print np.sum((predictedY - ySet)**2)"
   ]
  },
  {
   "cell_type": "code",
   "execution_count": 6,
   "metadata": {},
   "outputs": [
    {
     "data": {
      "text/plain": [
       "19747.252891975793"
      ]
     },
     "execution_count": 6,
     "metadata": {},
     "output_type": "execute_result"
    }
   ],
   "source": [
    "# The objective function measures the error of our prediction for a given sample set S\n",
    "def objective_function(w, S):\n",
    "    return np.sum([(linear_model(x, w) - y)**2 for x,y in S])# + np.sqrt(np.sum(w**2))\n",
    "\n",
    "# evaluate the error on the random guess\n",
    "objective_function(theta, S)"
   ]
  },
  {
   "cell_type": "code",
   "execution_count": 7,
   "metadata": {},
   "outputs": [],
   "source": [
    "# Manual Differentiation\n",
    "# Ex  = (f(x,w) - y)^2 = f(x,w)^2 - 2*f(x,w)*y + y^2\n",
    "# Ex/dw = (f(x,w)^2 - 2*f(x,w)*y)/dw    | f(x) = g(h(x)) =>  f'(x) = g'(h(x))h'(x)\n",
    "#       = 2 * f(x,w) * (f(x,w)/dw) - 2*(f(x,w)/dw)*y\n",
    "#   where \n",
    "#     f(x,w)/dw = (1, x_1, ... x_d)\n",
    "def objective_function_gradient(theta, S):\n",
    "    return np.sum([2*(linear_model(x, theta)*np.append(1, x)) - 2*np.append(1, x)*y for x,y in S], axis = 0)\n",
    "    \n",
    "# Automatic Differentiation !\n",
    "from autograd import grad\n",
    "objective_function_gradient_auto = grad(objective_function)"
   ]
  },
  {
   "cell_type": "code",
   "execution_count": 8,
   "metadata": {},
   "outputs": [
    {
     "name": "stdout",
     "output_type": "stream",
     "text": [
      "[   84.02573403  1121.91602439  1395.86004973  -497.61596128   752.45258534]\n",
      "[   84.02573403  1121.91602439  1395.86004973  -497.61596128   752.45258534]\n"
     ]
    }
   ],
   "source": [
    "print objective_function_gradient(theta, S)\n",
    "print objective_function_gradient_auto(theta, S)"
   ]
  },
  {
   "cell_type": "code",
   "execution_count": 9,
   "metadata": {},
   "outputs": [
    {
     "name": "stdout",
     "output_type": "stream",
     "text": [
      "100 loops, best of 3: 2.94 ms per loop\n",
      "10 loops, best of 3: 23.6 ms per loop\n"
     ]
    }
   ],
   "source": [
    "# There is however a disatvantage:\n",
    "%timeit objective_function_gradient(theta, S)\n",
    "%timeit objective_function_gradient_auto(theta, S)"
   ]
  },
  {
   "cell_type": "markdown",
   "metadata": {},
   "source": [
    "# Gradient Descent"
   ]
  },
  {
   "cell_type": "markdown",
   "metadata": {},
   "source": [
    "## Batch Gradient Descent\n",
    "\n",
    "Batch Gradient Descent takes all data into consideration"
   ]
  },
  {
   "cell_type": "code",
   "execution_count": 72,
   "metadata": {},
   "outputs": [
    {
     "name": "stdout",
     "output_type": "stream",
     "text": [
      "Computed 416 iterations in 1.75600004196 seconds.\n"
     ]
    }
   ],
   "source": [
    "theta = rnd.normal(size = 5)*rnd.randint(-50, 50, size = 5)# + rnd.normal(size = 5)*50\n",
    "error = [objective_function(theta, S)]\n",
    "gradient_fun = objective_function_gradient\n",
    "learningRate = 0.001\n",
    "maxIter = 1000\n",
    "\n",
    "t = time.time()\n",
    "condition = True\n",
    "niter = 0\n",
    "while condition:\n",
    "    # Batch gradient computes gradient based on the whole data set\n",
    "    gradient = gradient_fun(theta, S)\n",
    "    theta -= learningRate*gradient\n",
    "    niter += 1\n",
    "    error.append(objective_function(theta, S))\n",
    "    condition = not (np.isclose(0., np.linalg.norm(gradient)) or niter > maxIter)\n",
    "print 'Computed %d iterations in %s seconds.' % (niter, (time.time() - t))"
   ]
  },
  {
   "cell_type": "code",
   "execution_count": 73,
   "metadata": {},
   "outputs": [
    {
     "name": "stdout",
     "output_type": "stream",
     "text": [
      "[-8.72712974 -5.03999392 -6.36391103  2.17606322  0.77879894]\n",
      "[-9. -5. -6.  2.  1.]\n",
      "Objective at theta 36.566588 and at orginal weights 49.487761\n",
      "Gradient at theta: 0.0000000092851411\n"
     ]
    }
   ],
   "source": [
    "print(theta)\n",
    "print(optw)\n",
    "print 'Objective at theta %f and at orginal weights %f' % (objective_function(theta, S), objective_function(optw, S))\n",
    "print 'Gradient at theta: %.16f' % np.linalg.norm(gradient_fun(theta, S))"
   ]
  },
  {
   "cell_type": "code",
   "execution_count": 28,
   "metadata": {},
   "outputs": [
    {
     "data": {
      "image/png": "[encoded data removed]",
      "text/plain": [
       "<matplotlib.figure.Figure at 0xcb37630>"
      ]
     },
     "metadata": {},
     "output_type": "display_data"
    }
   ],
   "source": [
    "plt.plot(np.log(error))\n",
    "plt.show()"
   ]
  },
  {
   "cell_type": "markdown",
   "metadata": {},
   "source": [
    "## Stochastic gradient descent \n",
    "\n",
    "Stochastic Gradient Descent takes only single samples when computing gradients. The norm of the gradient will like not be zero when checking terminal condition."
   ]
  },
  {
   "cell_type": "code",
   "execution_count": 47,
   "metadata": {},
   "outputs": [
    {
     "name": "stdout",
     "output_type": "stream",
     "text": [
      "Computed 101 iterations in 0.704999923706 seconds.\n"
     ]
    }
   ],
   "source": [
    "theta = rnd.normal(size = 5)*rnd.randint(-50, 50, size = 5)# + rnd.normal(size = 5)*50\n",
    "error = [objective_function(theta, S)]\n",
    "gradient_fun = objective_function_gradient\n",
    "learningRate = 0.001\n",
    "maxIter = 100\n",
    "\n",
    "t = time.time()\n",
    "condition = True\n",
    "niter = 0\n",
    "while condition:\n",
    "    for j in xrange(len(S)):\n",
    "        _S = S[j:j+1]\n",
    "        gradient = gradient_fun(theta, _S)\n",
    "        theta -= learningRate*gradient\n",
    "        error.append(objective_function(theta, _S)) \n",
    "    niter += 1\n",
    "    condition = not (np.isclose(0., np.linalg.norm(gradient)) or niter > maxIter)\n",
    "print 'Computed %d iterations in %s seconds.' % (niter, (time.time() - t))"
   ]
  },
  {
   "cell_type": "code",
   "execution_count": 48,
   "metadata": {},
   "outputs": [
    {
     "name": "stdout",
     "output_type": "stream",
     "text": [
      "[-8.7412336  -5.03363143 -6.35127418  2.17466085  0.78118546]\n",
      "[-9. -5. -6.  2.  1.]\n",
      "Objective at theta 36.583200 and at orginal weights 49.487761\n",
      "Gradient at theta: 1.6528150448340153\n"
     ]
    },
    {
     "data": {
      "image/png": "[encoded data removed]",
      "text/plain": [
       "<matplotlib.figure.Figure at 0xeece9e8>"
      ]
     },
     "metadata": {},
     "output_type": "display_data"
    }
   ],
   "source": [
    "print(theta)\n",
    "print(optw)\n",
    "print 'Objective at theta %f and at orginal weights %f' % (objective_function(theta, S), objective_function(optw, S))\n",
    "print 'Gradient at theta: %.16f' % np.linalg.norm(gradient_fun(theta, S))\n",
    "plt.plot(np.log10(error))\n",
    "plt.show()"
   ]
  },
  {
   "cell_type": "markdown",
   "metadata": {},
   "source": [
    "## Mini-Batch Gradient Descent\n",
    "\n",
    "This methods only considers small batches of data. The term epoch refers to the number of time whole dataset has been seen."
   ]
  },
  {
   "cell_type": "code",
   "execution_count": 65,
   "metadata": {},
   "outputs": [
    {
     "name": "stdout",
     "output_type": "stream",
     "text": [
      "Computed in 2.48300004005 seconds\n"
     ]
    }
   ],
   "source": [
    "theta = rnd.normal(size = 5)*rnd.randint(-50, 50, size = 5)# + rnd.normal(size = 5)*50\n",
    "localError = []\n",
    "globalError = [objective_function(theta, S)]\n",
    "gradient_fun = objective_function_gradient\n",
    "learningRate = 0.001\n",
    "batchSize = 10\n",
    "maxIter = 100\n",
    "\n",
    "t = time.time()\n",
    "for epoch in xrange(500):\n",
    "    rnd.shuffle(S)    \n",
    "    batches = [S[i:i + batchSize] for i in xrange(0, len(S), batchSize)]\n",
    "    for _S in batches:\n",
    "        gradient = gradient_fun(theta, _S)\n",
    "        theta -= learningRate*gradient\n",
    "        localError.append(objective_function(theta, _S))\n",
    "    globalError.append(objective_function(theta, S))\n",
    "\n",
    "print 'Computed in %s seconds' % (time.time() - t)"
   ]
  },
  {
   "cell_type": "code",
   "execution_count": 66,
   "metadata": {},
   "outputs": [
    {
     "name": "stdout",
     "output_type": "stream",
     "text": [
      "[-8.72581838 -5.04081205 -6.36292833  2.17652563  0.77968323]\n",
      "[-9. -5. -6.  2.  1.]\n",
      "Objective at theta 36.566949 and at orginal weights 49.487761\n",
      "Gradient at theta: 0.3522467267535883\n"
     ]
    },
    {
     "data": {
      "image/png": "[encoded data removed]",
      "text/plain": [
       "<matplotlib.figure.Figure at 0x10b277f0>"
      ]
     },
     "metadata": {},
     "output_type": "display_data"
    },
    {
     "data": {
      "image/png": "[encoded data removed]",
      "text/plain": [
       "<matplotlib.figure.Figure at 0xcbc0588>"
      ]
     },
     "metadata": {},
     "output_type": "display_data"
    }
   ],
   "source": [
    "print(theta)\n",
    "print(optw)\n",
    "print 'Objective at theta %f and at orginal weights %f' % (objective_function(theta, S), objective_function(optw, S))\n",
    "print 'Gradient at theta: %.16f' % np.linalg.norm(gradient_fun(theta, S))\n",
    "plt.plot(np.log10(localError))\n",
    "plt.show()\n",
    "plt.plot(np.log10(globalError))\n",
    "plt.show()"
   ]
  },
  {
   "cell_type": "markdown",
   "metadata": {
    "collapsed": true
   },
   "source": [
    "# Advances in Gradient Descent\n",
    "\n",
    "## Momentum update"
   ]
  },
  {
   "cell_type": "code",
   "execution_count": 282,
   "metadata": {},
   "outputs": [
    {
     "name": "stdout",
     "output_type": "stream",
     "text": [
      "Computed 35 iterations in 0.155999898911 seconds.\n"
     ]
    }
   ],
   "source": [
    "theta = rnd.normal(size = 5)*rnd.randint(-50, 50, size = 5)# + rnd.normal(size = 5)*50\n",
    "error = [objective_function(theta, S)]\n",
    "gradient_fun = objective_function_gradient\n",
    "learningRate = 0.01\n",
    "gamma = 0.1\n",
    "maxIter = 1000\n",
    "\n",
    "t = time.time()\n",
    "condition = True\n",
    "niter = 0\n",
    "gradupdate = 0\n",
    "while condition:\n",
    "    # Batch gradient computes gradient based on the whole data set\n",
    "    gradient = gradient_fun(theta, S)\n",
    "    gradupdate = gradupdate*gamma + learningRate*gradient\n",
    "    theta -= gradupdate#theta*gamma + learningRate*gradient\n",
    "    niter += 1\n",
    "    error.append(objective_function(theta, S))\n",
    "    condition = not (np.isclose(0., np.linalg.norm(gradient)) or niter > maxIter)\n",
    "print 'Computed %d iterations in %s seconds.' % (niter, (time.time() - t))"
   ]
  },
  {
   "cell_type": "code",
   "execution_count": 281,
   "metadata": {},
   "outputs": [
    {
     "name": "stdout",
     "output_type": "stream",
     "text": [
      "[-8.72712974 -5.03999392 -6.36391103  2.17606322  0.77879894]\n",
      "[-9. -5. -6.  2.  1.]\n",
      "Objective at theta 36.566588 and at orginal weights 49.487761\n",
      "Gradient at theta: 0.0000000066133023\n"
     ]
    },
    {
     "data": {
      "image/png": "[encoded data removed]",
      "text/plain": [
       "<matplotlib.figure.Figure at 0x4687320>"
      ]
     },
     "metadata": {},
     "output_type": "display_data"
    }
   ],
   "source": [
    "print(theta)\n",
    "print(optw)\n",
    "print 'Objective at theta %f and at orginal weights %f' % (objective_function(theta, S), objective_function(optw, S))\n",
    "print 'Gradient at theta: %.16f' % np.linalg.norm(gradient_fun(theta, S))\n",
    "plt.plot(np.log10(error))\n",
    "plt.show()"
   ]
  },
  {
   "cell_type": "markdown",
   "metadata": {},
   "source": [
    "### Mini Batch Variant"
   ]
  },
  {
   "cell_type": "code",
   "execution_count": 264,
   "metadata": {},
   "outputs": [
    {
     "name": "stdout",
     "output_type": "stream",
     "text": [
      "Computed in 2.44999980927 seconds\n",
      "[-8.71972278 -5.08641262 -6.34970427  2.22015009  0.80270348]\n",
      "[-9. -5. -6.  2.  1.]\n",
      "Objective at theta 36.946332 and at orginal weights 49.487761\n",
      "Gradient at theta: 11.0707919903727650\n"
     ]
    },
    {
     "data": {
      "image/png": "[encoded data removed]",
      "text/plain": [
       "<matplotlib.figure.Figure at 0x1061d438>"
      ]
     },
     "metadata": {},
     "output_type": "display_data"
    },
    {
     "data": {
      "image/png": "[encoded data removed]",
      "text/plain": [
       "<matplotlib.figure.Figure at 0xeb34be0>"
      ]
     },
     "metadata": {},
     "output_type": "display_data"
    }
   ],
   "source": [
    "theta = rnd.normal(size = 5)*rnd.randint(-50, 50, size = 5)# + rnd.normal(size = 5)*50\n",
    "localError = []\n",
    "globalError = [objective_function(theta, S)]\n",
    "gradient_fun = objective_function_gradient\n",
    "learningRate = 0.001\n",
    "gamma = 0.9\n",
    "batchSize = 10\n",
    "maxIter = 100\n",
    "\n",
    "t = time.time()\n",
    "for epoch in xrange(500):\n",
    "    rnd.shuffle(S)    \n",
    "    batches = [S[i:i + batchSize] for i in xrange(0, len(S), batchSize)]\n",
    "    gradupdate = 0\n",
    "    for _S in batches:\n",
    "        gradient = gradient_fun(theta, _S)\n",
    "        gradupdate = gradupdate*gamma + learningRate*gradient\n",
    "        theta -= gradupdate\n",
    "        localError.append(objective_function(theta, _S))\n",
    "    globalError.append(objective_function(theta, S))\n",
    "\n",
    "print 'Computed in %s seconds' % (time.time() - t)\n",
    "print(theta)\n",
    "print(optw)\n",
    "print 'Objective at theta %f and at orginal weights %f' % (objective_function(theta, S), objective_function(optw, S))\n",
    "print 'Gradient at theta: %.16f' % np.linalg.norm(gradient_fun(theta, S))\n",
    "plt.plot(np.log10(localError))\n",
    "plt.show()\n",
    "plt.plot(np.log10(globalError))\n",
    "plt.show()"
   ]
  },
  {
   "cell_type": "markdown",
   "metadata": {},
   "source": [
    "## Nesterov Accelerated Momentum"
   ]
  },
  {
   "cell_type": "code",
   "execution_count": 135,
   "metadata": {},
   "outputs": [
    {
     "name": "stdout",
     "output_type": "stream",
     "text": [
      "Computed 399 iterations in 1.58700013161 seconds.\n"
     ]
    }
   ],
   "source": [
    "theta = rnd.normal(size = 5)*rnd.randint(-50, 50, size = 5)# + rnd.normal(size = 5)*50\n",
    "error = [objective_function(theta, S)]\n",
    "gradient_fun = objective_function_gradient\n",
    "learningRate = 0.001\n",
    "gamma = 0.9\n",
    "maxIter = 1000\n",
    "\n",
    "t = time.time()\n",
    "condition = True\n",
    "niter = 0\n",
    "previousGradient = 0\n",
    "while condition:\n",
    "    # Batch gradient computes gradient based on the whole data set\n",
    "    gradient = gradient_fun(theta - previousGradient*gamma, S)\n",
    "    theta -= previousGradient*gamma + learningRate*gradient\n",
    "    niter += 1\n",
    "    error.append(objective_function(theta, S))\n",
    "    condition = not (np.isclose(0., np.linalg.norm(gradient)) or niter > maxIter)\n",
    "print 'Computed %d iterations in %s seconds.' % (niter, (time.time() - t))"
   ]
  },
  {
   "cell_type": "code",
   "execution_count": 136,
   "metadata": {},
   "outputs": [
    {
     "name": "stdout",
     "output_type": "stream",
     "text": [
      "[-8.72712974 -5.03999392 -6.36391103  2.17606322  0.77879894]\n",
      "[-9. -5. -6.  2.  1.]\n",
      "Objective at theta 36.566588 and at orginal weights 49.487761\n",
      "Gradient at theta: 0.0000000092679353\n"
     ]
    },
    {
     "data": {
      "image/png": "[encoded data removed]",
      "text/plain": [
       "<matplotlib.figure.Figure at 0xeebde80>"
      ]
     },
     "metadata": {},
     "output_type": "display_data"
    }
   ],
   "source": [
    "print(theta)\n",
    "print(optw)\n",
    "print 'Objective at theta %f and at orginal weights %f' % (objective_function(theta, S), objective_function(optw, S))\n",
    "print 'Gradient at theta: %.16f' % np.linalg.norm(gradient_fun(theta, S))\n",
    "plt.plot(np.log10(error))\n",
    "plt.show()"
   ]
  },
  {
   "cell_type": "markdown",
   "metadata": {},
   "source": [
    "## Adagrad"
   ]
  },
  {
   "cell_type": "code",
   "execution_count": 217,
   "metadata": {},
   "outputs": [
    {
     "name": "stdout",
     "output_type": "stream",
     "text": [
      "Computed 84 iterations in 0.343000173569 seconds.\n"
     ]
    }
   ],
   "source": [
    "theta = rnd.normal(size = 5)*rnd.randint(-50, 50, size = 5)# + rnd.normal(size = 5)*50\n",
    "error = [objective_function(theta, S)]\n",
    "gradient_fun = objective_function_gradient\n",
    "learningRate = 100\n",
    "gradientHistory = np.zeros_like(theta)\n",
    "epsilon = 1e-8\n",
    "maxIter = 1000\n",
    "\n",
    "t = time.time()\n",
    "condition = True\n",
    "niter = 0\n",
    "while condition:\n",
    "    # Batch gradient computes gradient based on the whole data set\n",
    "    gradient = gradient_fun(theta, S)\n",
    "    gradientHistory += (gradient**2)\n",
    "    theta -= (learningRate/np.sqrt(gradientHistory + epsilon))*gradient\n",
    "    niter += 1\n",
    "    error.append(objective_function(theta, S))\n",
    "    \n",
    "    condition = not (np.isclose(0., np.linalg.norm(gradient)) or niter > maxIter)\n",
    "print 'Computed %d iterations in %s seconds.' % (niter, (time.time() - t))\n"
   ]
  },
  {
   "cell_type": "code",
   "execution_count": 218,
   "metadata": {},
   "outputs": [
    {
     "name": "stdout",
     "output_type": "stream",
     "text": [
      "[-8.72712974 -5.03999392 -6.36391103  2.17606322  0.77879894]\n",
      "[-9. -5. -6.  2.  1.]\n",
      "Objective at theta 36.566588 and at orginal weights 49.487761\n",
      "Gradient at theta: 0.0000000054146745\n"
     ]
    },
    {
     "data": {
      "image/png": "[encoded data removed]",
      "text/plain": [
       "<matplotlib.figure.Figure at 0xc75add8>"
      ]
     },
     "metadata": {},
     "output_type": "display_data"
    }
   ],
   "source": [
    "print(theta)\n",
    "print(optw)\n",
    "print 'Objective at theta %f and at orginal weights %f' % (objective_function(theta, S), objective_function(optw, S))\n",
    "print 'Gradient at theta: %.16f' % np.linalg.norm(gradient_fun(theta, S))\n",
    "plt.plot(np.log10(error))\n",
    "plt.show()"
   ]
  },
  {
   "cell_type": "markdown",
   "metadata": {},
   "source": [
    "## Adadelta\n",
    "\n",
    "Naive computation using window size"
   ]
  },
  {
   "cell_type": "code",
   "execution_count": 195,
   "metadata": {},
   "outputs": [
    {
     "name": "stdout",
     "output_type": "stream",
     "text": [
      "Computed 152 iterations in 0.618000030518 seconds.\n"
     ]
    }
   ],
   "source": [
    "theta = rnd.normal(size = 5)*rnd.randint(-50, 50, size = 5)# + rnd.normal(size = 5)*50\n",
    "error = [objective_function(theta, S)]\n",
    "gradient_fun = objective_function_gradient\n",
    "learningRate = 1\n",
    "windowSize = 100\n",
    "gamma = 0.999\n",
    "gradientHistory = np.zeros((len(theta), windowSize))\n",
    "epsilon = 1e-8\n",
    "maxIter = 1000\n",
    "\n",
    "t = time.time()\n",
    "condition = True\n",
    "niter = 0\n",
    "while condition:\n",
    "    # Batch gradient computes gradient based on the whole data set\n",
    "    gradient = gradient_fun(theta, S)\n",
    "    gradientHistory = np.roll(gradientHistory, 1)\n",
    "    gradientHistory[:, 0] = gradient\n",
    "    correctionTerm = (gradientHistory**2).mean(axis = 1)\n",
    "    #print correctionTerm\n",
    "    theta -= (learningRate/np.sqrt(correctionTerm + epsilon))*gradient\n",
    "    niter += 1\n",
    "    error.append(objective_function(theta, S))\n",
    "    \n",
    "    condition = not (np.isclose(0., np.linalg.norm(gradient)) or niter > maxIter)\n",
    "print 'Computed %d iterations in %s seconds.' % (niter, (time.time() - t))\n"
   ]
  },
  {
   "cell_type": "code",
   "execution_count": 196,
   "metadata": {},
   "outputs": [
    {
     "name": "stdout",
     "output_type": "stream",
     "text": [
      "[-8.72712974 -5.03999392 -6.36391103  2.17606322  0.77879894]\n",
      "[-9. -5. -6.  2.  1.]\n",
      "Objective at theta 36.566588 and at orginal weights 49.487761\n",
      "Gradient at theta: 0.0000000051917905\n"
     ]
    },
    {
     "data": {
      "image/png": "[encoded data removed]",
      "text/plain": [
       "<matplotlib.figure.Figure at 0x10db06a0>"
      ]
     },
     "metadata": {},
     "output_type": "display_data"
    }
   ],
   "source": [
    "print(theta)\n",
    "print(optw)\n",
    "print 'Objective at theta %f and at orginal weights %f' % (objective_function(theta, S), objective_function(optw, S))\n",
    "print 'Gradient at theta: %.16f' % np.linalg.norm(gradient_fun(theta, S))\n",
    "plt.plot(np.log10(error))\n",
    "plt.show()"
   ]
  },
  {
   "cell_type": "markdown",
   "metadata": {},
   "source": [
    "Implementation using  decaying average"
   ]
  },
  {
   "cell_type": "code",
   "execution_count": 166,
   "metadata": {},
   "outputs": [
    {
     "name": "stdout",
     "output_type": "stream",
     "text": [
      "Computed 51 iterations in 0.214999914169 seconds.\n"
     ]
    }
   ],
   "source": [
    "theta = rnd.normal(size = 5)*rnd.randint(-50, 50, size = 5)# + rnd.normal(size = 5)*50\n",
    "error = [objective_function(theta, S)]\n",
    "gradient_fun = objective_function_gradient\n",
    "learningRate = 1#0.1\n",
    "gamma = 0.999\n",
    "previousGradient = np.zeros_like(theta)\n",
    "epsilon = 1e-8\n",
    "maxIter = 1000\n",
    "\n",
    "t = time.time()\n",
    "condition = True\n",
    "niter = 0\n",
    "while condition:\n",
    "    # Batch gradient computes gradient based on the whole data set\n",
    "    gradient = gradient_fun(theta, S)\n",
    "    previousGradient = gamma*previousGradient + (1 - gamma)*((learningRate*gradient)**2)\n",
    "    #print correctionTerm\n",
    "    theta -= (learningRate/np.sqrt(previousGradient + epsilon))*gradient\n",
    "    niter += 1\n",
    "    error.append(objective_function(theta, S))\n",
    "    \n",
    "    condition = not (np.isclose(0., np.linalg.norm(gradient)) or niter > maxIter)\n",
    "print 'Computed %d iterations in %s seconds.' % (niter, (time.time() - t))\n"
   ]
  },
  {
   "cell_type": "code",
   "execution_count": 167,
   "metadata": {},
   "outputs": [
    {
     "name": "stdout",
     "output_type": "stream",
     "text": [
      "[-8.72712974 -5.03999392 -6.36391103  2.17606322  0.77879894]\n",
      "[-9. -5. -6.  2.  1.]\n",
      "Objective at theta 36.566588 and at orginal weights 49.487761\n",
      "Gradient at theta: 0.0000000055982053\n"
     ]
    },
    {
     "data": {
      "image/png": "[encoded data removed]",
      "text/plain": [
       "<matplotlib.figure.Figure at 0xcfcdc18>"
      ]
     },
     "metadata": {},
     "output_type": "display_data"
    }
   ],
   "source": [
    "print(theta)\n",
    "print(optw)\n",
    "print 'Objective at theta %f and at orginal weights %f' % (objective_function(theta, S), objective_function(optw, S))\n",
    "print 'Gradient at theta: %.16f' % np.linalg.norm(gradient_fun(theta, S))\n",
    "plt.plot(np.log10(error))\n",
    "plt.show()"
   ]
  },
  {
   "cell_type": "markdown",
   "metadata": {},
   "source": [
    "## Adam\n",
    "\n",
    "Additionally adaps momentum for each parameter."
   ]
  },
  {
   "cell_type": "code",
   "execution_count": 250,
   "metadata": {},
   "outputs": [
    {
     "name": "stdout",
     "output_type": "stream",
     "text": [
      "Computed 531 iterations in 2.06900000572 seconds.\n"
     ]
    }
   ],
   "source": [
    "theta = rnd.normal(size = 5)*rnd.randint(-50, 50, size = 5)# + rnd.normal(size = 5)*50\n",
    "error = [objective_function(theta, S)]\n",
    "gradient_fun = objective_function_gradient\n",
    "learningRate = 1#0.1\n",
    "beta1 = 0.9\n",
    "beta2 = 0.999\n",
    "m = np.zeros_like(theta)\n",
    "v = np.zeros_like(theta)\n",
    "epsilon = 1e-8\n",
    "maxIter = 1000\n",
    "\n",
    "t = time.time()\n",
    "condition = True\n",
    "niter = 0\n",
    "while condition:\n",
    "    niter += 1\n",
    "    gradient = gradient_fun(theta, S)\n",
    "    m = beta1*m + (1 - beta1)*gradient\n",
    "    v = beta2*v + (1 - beta2)*(gradient**2)\n",
    "    mt = m/(1. - beta1**niter)\n",
    "    vt = v/(1. - beta2**niter)\n",
    "    theta -= ((learningRate*mt)/(np.sqrt(vt) + epsilon)) # <- no gradient term\n",
    "    \n",
    "    error.append(objective_function(theta, S))\n",
    "    \n",
    "    condition = not (np.isclose(0., np.linalg.norm(gradient)) or niter > maxIter)\n",
    "print 'Computed %d iterations in %s seconds.' % (niter, (time.time() - t))"
   ]
  },
  {
   "cell_type": "code",
   "execution_count": 251,
   "metadata": {},
   "outputs": [
    {
     "name": "stdout",
     "output_type": "stream",
     "text": [
      "[-8.72712974 -5.03999392 -6.36391103  2.17606322  0.77879894]\n",
      "[-9. -5. -6.  2.  1.]\n",
      "Objective at theta 36.566588 and at orginal weights 49.487761\n",
      "Gradient at theta: 0.0000000054758447\n"
     ]
    },
    {
     "data": {
      "image/png": "[encoded data removed]",
      "text/plain": [
       "<matplotlib.figure.Figure at 0xc765eb8>"
      ]
     },
     "metadata": {},
     "output_type": "display_data"
    }
   ],
   "source": [
    "print(theta)\n",
    "print(optw)\n",
    "print 'Objective at theta %f and at orginal weights %f' % (objective_function(theta, S), objective_function(optw, S))\n",
    "print 'Gradient at theta: %.16f' % np.linalg.norm(gradient_fun(theta, S))\n",
    "plt.plot(np.log10(error))\n",
    "plt.show()"
   ]
  },
  {
   "cell_type": "markdown",
   "metadata": {},
   "source": [
    "# Code optimization\n",
    "\n",
    "## Differentiation"
   ]
  },
  {
   "cell_type": "code",
   "execution_count": null,
   "metadata": {},
   "outputs": [],
   "source": [
    "# Maybe it can be imporoved by moving away the data\n",
    "class SimpleModel(object):\n",
    "    \n",
    "    def __init__(self, S):\n",
    "        self.x, self.y = zip(*S)\n",
    "        self.objective_gradient = grad(self.objective)\n",
    "        \n",
    "    def model(self, weights):\n",
    "        return np.array([weights[0] + np.sum(x*weights[1:]) for x in self.x])\n",
    "        \n",
    "    def objective(self, theta):\n",
    "        return np.sum((self.model(theta) - self.y)**2)\n",
    "        \n",
    "sm = SimpleModel(S)\n",
    "print objective_function(theta, S)\n",
    "print sm.objective(theta)\n",
    "print objective_function_gradient(theta, S)\n",
    "print sm.objective_gradient(theta)\n",
    "%timeit objective_function_gradient(theta, S)\n",
    "%timeit sm.objective_gradient(theta)"
   ]
  },
  {
   "cell_type": "code",
   "execution_count": null,
   "metadata": {
    "collapsed": true
   },
   "outputs": [],
   "source": []
  },
  {
   "cell_type": "code",
   "execution_count": null,
   "metadata": {},
   "outputs": [],
   "source": [
    "def linear_model_m(x, theta):\n",
    "    return np.dot(x, theta[1:]) + theta[0]\n",
    "\n",
    "#linear_model_m(xSet, np.array([10000, 1,10,100, 1000]))\n",
    "def objective_function_m(theta, xMatrix, yValues):\n",
    "    return np.sum((linear_model_m(xMatrix, theta) - yValues)**2)\n",
    "\n",
    "# def objective_function_m_gradient(theta, xMatrix, yValues):\n",
    "#     _x = np.append(np.ones((np.shape(xMatrix)[0], 1)), xMatrix, axis = 1)\n",
    "#     return 2*np.dot(linear_model_m(xMatrix, theta), _x) - 2*\n",
    "#     #return np.sum([2*(linear_model_m(xMatrix, theta)*_x) - 2*np.append(1, x)*y for x,y in S], axis = 0)\n",
    "\n",
    "print x,y\n",
    "objective_function_m(theta, x, y)"
   ]
  },
  {
   "cell_type": "code",
   "execution_count": null,
   "metadata": {},
   "outputs": [],
   "source": [
    "y = zip(*S)[1]\n",
    "x = np.array(zip(*S)[0])\n",
    "print np.shape(x), np.shape(y)\n",
    "print objective_function_m(optw, x,y)\n",
    "\n",
    "objective_function(optw, S)\n",
    "_dx = grad(objective_function)#(optw, S)\n",
    "print objective_function(optw, S), _dx(theta, S)"
   ]
  },
  {
   "cell_type": "code",
   "execution_count": null,
   "metadata": {},
   "outputs": [],
   "source": [
    "y = zip(*S)[1]\n",
    "x = np.matrix(zip(*S)[0])\n",
    "print np.array(x[:6])\n",
    "_x = np.append(np.ones((np.shape(x)[0], 1)), x, axis = 1)\n",
    "print linear_model_m(x, theta)[:6]\n",
    "print _x[:6]\n",
    "print 2*np.dot(linear_model_m(x, theta), _x)\n",
    "print (np.array(_x[:6]).T * y[:6]).T\n",
    "print 2*np.dot(linear_model_m(x, theta), _x) - 2*(np.array(_x).T * y).T"
   ]
  },
  {
   "cell_type": "code",
   "execution_count": null,
   "metadata": {},
   "outputs": [],
   "source": [
    "# #_m = np.array([[1,2,3],[4,5,6],[7,8,9]])\n",
    "# #_c = np.array([0,1,2])\n",
    "# #_m * _c\n",
    "# _m = np.array(xrange(12)).reshape((4,3))\n",
    "# _c = np.array([10,200,3000,4000])\n",
    "# print (_m.T * _c).T\n",
    "# #_m"
   ]
  },
  {
   "cell_type": "code",
   "execution_count": null,
   "metadata": {},
   "outputs": [],
   "source": [
    "x, y = zip(*S)\n",
    "\n",
    "theta = rnd.normal(size = 5)#rnd.randint(-10, 10, size = 5) + rnd.normal(size = 5)*50\n",
    "error = [objective_function_m(theta, x, y)]\n",
    "dx = grad(objective_function_m)\n",
    "t = time.time()\n",
    "for epoch in xrange(20):\n",
    "    rnd.shuffle(S)\n",
    "    batchSize = 15\n",
    "    batches = [S[i:i + batchSize] for i in xrange(0, len(S), batchSize)]\n",
    "    for i in xrange(30):\n",
    "        for _S in batches:\n",
    "            x, y = zip(*_S)\n",
    "            theta -= 0.01*dx(theta, x, y)\n",
    "            error.append(objective_function_m(theta, x,y))\n",
    "print 'Computed in %s seconds' % (time.time() - t)"
   ]
  },
  {
   "cell_type": "code",
   "execution_count": null,
   "metadata": {},
   "outputs": [],
   "source": [
    "print(theta)\n",
    "print(optw)\n",
    "plt.plot(np.log(error))\n",
    "plt.show()"
   ]
  },
  {
   "cell_type": "code",
   "execution_count": null,
   "metadata": {
    "collapsed": true
   },
   "outputs": [],
   "source": []
  }
 ],
 "metadata": {
  "kernelspec": {
   "display_name": "Python 2",
   "language": "python",
   "name": "python2"
  },
  "language_info": {
   "codemirror_mode": {
    "name": "ipython",
    "version": 2
   },
   "file_extension": ".py",
   "mimetype": "text/x-python",
   "name": "python",
   "nbconvert_exporter": "python",
   "pygments_lexer": "ipython2",
   "version": "2.7.13"
  }
 },
 "nbformat": 4,
 "nbformat_minor": 2
}
