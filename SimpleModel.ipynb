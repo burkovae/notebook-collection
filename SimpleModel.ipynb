{
 "cells": [
  {
   "cell_type": "code",
   "execution_count": 63,
   "metadata": {},
   "outputs": [],
   "source": [
    "import autograd.numpy as np\n",
    "import numpy.random as rnd\n",
    "import matplotlib.pyplot as plt\n",
    "import seaborn\n"
   ]
  },
  {
   "cell_type": "code",
   "execution_count": 296,
   "metadata": {},
   "outputs": [
    {
     "name": "stdout",
     "output_type": "stream",
     "text": [
      "[-7  5 -3  6  7]\n"
     ]
    }
   ],
   "source": [
    "def linear_model(x, weights):\n",
    "    return weights[0] + np.sum(x*weights[1:])\n",
    "\n",
    "xSet = [rnd.normal(size = 4) for i in xrange(50)]\n",
    "\n",
    "optw = rnd.randint(-10, 10, size = 5)\n",
    "ySet = np.array([linear_model(x, optw) for x in xSet]) + rnd.normal(size = len(xSet))\n",
    "print(optw)"
   ]
  },
  {
   "cell_type": "code",
   "execution_count": 297,
   "metadata": {},
   "outputs": [],
   "source": [
    "S = zip(xSet, ySet)"
   ]
  },
  {
   "cell_type": "code",
   "execution_count": 298,
   "metadata": {},
   "outputs": [
    {
     "data": {
      "text/plain": [
       "[(array([ 0.67942572,  1.04257208, -0.08013722,  0.24819409]),\n",
       "  -5.4702271482215172),\n",
       " (array([-1.08146085,  0.34226825, -0.55247319, -0.51349382]),\n",
       "  -18.827695386022889),\n",
       " (array([-2.32141116,  2.17526526,  1.61933495,  1.87071231]),\n",
       "  -2.2103715309436738),\n",
       " (array([-1.6118039 , -0.73814805, -0.16514536, -1.13833499]),\n",
       "  -21.564179391245617),\n",
       " (array([ 0.03425617, -1.97222134, -1.01608634,  0.2830557 ]),\n",
       "  -5.1340346190756998),\n",
       " (array([-0.52872643,  0.50847777,  0.6577813 ,  0.05874157]),\n",
       "  -4.8020491274104256)]"
      ]
     },
     "execution_count": 298,
     "metadata": {},
     "output_type": "execute_result"
    }
   ],
   "source": [
    "S[:6]"
   ]
  },
  {
   "cell_type": "code",
   "execution_count": 299,
   "metadata": {
    "collapsed": true
   },
   "outputs": [],
   "source": [
    "theta = rnd.randint(-10, 10, size = 5) + rnd.normal(size = 5)"
   ]
  },
  {
   "cell_type": "code",
   "execution_count": 300,
   "metadata": {
    "collapsed": true
   },
   "outputs": [],
   "source": [
    "predictedY = [linear_model(x, theta) for x in xSet]"
   ]
  },
  {
   "cell_type": "code",
   "execution_count": 301,
   "metadata": {},
   "outputs": [
    {
     "data": {
      "text/plain": [
       "20417.403651394608"
      ]
     },
     "execution_count": 301,
     "metadata": {},
     "output_type": "execute_result"
    }
   ],
   "source": [
    "np.sum((predictedY - ySet)**2)"
   ]
  },
  {
   "cell_type": "code",
   "execution_count": 312,
   "metadata": {
    "collapsed": true
   },
   "outputs": [],
   "source": [
    "def objective_function(w, S):\n",
    "    return np.sum([(linear_model(x, w) - y)**2 for x,y in S]) + np.sqrt(np.sum(w**2))"
   ]
  },
  {
   "cell_type": "code",
   "execution_count": 313,
   "metadata": {},
   "outputs": [
    {
     "data": {
      "text/plain": [
       "41.293619660765373"
      ]
     },
     "execution_count": 313,
     "metadata": {},
     "output_type": "execute_result"
    }
   ],
   "source": [
    "objective_function(theta, S)"
   ]
  },
  {
   "cell_type": "code",
   "execution_count": 314,
   "metadata": {},
   "outputs": [],
   "source": [
    "# Automatic Differentiation !\n",
    "from autograd import grad\n",
    "dx = grad(objective_function)\n",
    "\n",
    "# classic gradient descent\n",
    "theta = rnd.normal(size = 5)#rnd.randint(-10, 10, size = 5) + rnd.normal(size = 5)*50\n",
    "error = [objective_function(theta, S)]\n",
    "for epoch in xrange(10):\n",
    "    rnd.shuffle(S)\n",
    "    for i in xrange(30):\n",
    "        theta -= 0.01*dx(theta, S)\n",
    "        error.append(objective_function(theta, S))"
   ]
  },
  {
   "cell_type": "code",
   "execution_count": 315,
   "metadata": {},
   "outputs": [
    {
     "name": "stdout",
     "output_type": "stream",
     "text": [
      "[  1.01132626e+10   3.67234853e+10   4.71776157e+09  -1.00741958e+10\n",
      "  -1.92748366e+10]\n",
      "[-7  5 -3  6  7]\n"
     ]
    }
   ],
   "source": [
    "print(theta)\n",
    "print(optw)\n"
   ]
  },
  {
   "cell_type": "code",
   "execution_count": 316,
   "metadata": {},
   "outputs": [
    {
     "data": {
      "image/png": "[encoded data removed]",
      "text/plain": [
       "<matplotlib.figure.Figure at 0x1dcac860>"
      ]
     },
     "metadata": {},
     "output_type": "display_data"
    }
   ],
   "source": [
    "plt.plot(np.log(error))\n",
    "plt.show()"
   ]
  },
  {
   "cell_type": "code",
   "execution_count": 317,
   "metadata": {},
   "outputs": [
    {
     "data": {
      "text/plain": [
       "[6520.497470047806,\n",
       " 1088.3499463775502,\n",
       " 955.87722971006451,\n",
       " 1089.4073120836231,\n",
       " 1267.3744793434175,\n",
       " 1477.9354860544936]"
      ]
     },
     "execution_count": 317,
     "metadata": {},
     "output_type": "execute_result"
    }
   ],
   "source": [
    "error[:6]"
   ]
  },
  {
   "cell_type": "code",
   "execution_count": 318,
   "metadata": {},
   "outputs": [],
   "source": [
    "theta = rnd.normal(size = 5)#rnd.randint(-10, 10, size = 5) + rnd.normal(size = 5)*50\n",
    "error = [objective_function(theta, S)]\n",
    "\n",
    "for epoch in xrange(10):\n",
    "    rnd.shuffle(S)\n",
    "    for i in xrange(30):\n",
    "        for j in xrange(len(S)):\n",
    "            x = S[j:j+1] # print(S[j:j+1])\n",
    "            theta -= 0.01*dx(theta, x)\n",
    "            error.append(objective_function(theta, x))"
   ]
  },
  {
   "cell_type": "code",
   "execution_count": 319,
   "metadata": {},
   "outputs": [
    {
     "name": "stdout",
     "output_type": "stream",
     "text": [
      "[-6.54652825  4.80066526 -2.91432757  5.98493238  6.7019167 ]\n",
      "[-7  5 -3  6  7]\n"
     ]
    },
    {
     "data": {
      "image/png": "[encoded data removed]",
      "text/plain": [
       "<matplotlib.figure.Figure at 0x1f382128>"
      ]
     },
     "metadata": {},
     "output_type": "display_data"
    }
   ],
   "source": [
    "print(theta)\n",
    "print(optw)\n",
    "plt.plot(np.log(error))\n",
    "plt.show()"
   ]
  },
  {
   "cell_type": "code",
   "execution_count": 320,
   "metadata": {},
   "outputs": [],
   "source": [
    "theta = rnd.normal(size = 5)#rnd.randint(-10, 10, size = 5) + rnd.normal(size = 5)*50\n",
    "error = [objective_function(theta, S)]\n",
    "\n",
    "for epoch in xrange(10):\n",
    "    rnd.shuffle(S)\n",
    "    batchSize = 15\n",
    "    batches = [S[i:i + batchSize] for i in xrange(0, len(S), batchSize)]\n",
    "    for i in xrange(30):\n",
    "        for _S in batches:\n",
    "            theta -= 0.01*dx(theta, _S)\n",
    "            error.append(objective_function(theta, _S))"
   ]
  },
  {
   "cell_type": "code",
   "execution_count": 321,
   "metadata": {},
   "outputs": [
    {
     "name": "stdout",
     "output_type": "stream",
     "text": [
      "[-6.78353903  5.00547098 -2.95057146  6.14116127  6.98814919]\n",
      "[-7  5 -3  6  7]\n"
     ]
    },
    {
     "data": {
      "image/png": "[encoded data removed]",
      "text/plain": [
       "<matplotlib.figure.Figure at 0x1dc80ac8>"
      ]
     },
     "metadata": {},
     "output_type": "display_data"
    }
   ],
   "source": [
    "print(theta)\n",
    "print(optw)\n",
    "plt.plot(np.log(error))\n",
    "plt.show()"
   ]
  },
  {
   "cell_type": "code",
   "execution_count": null,
   "metadata": {
    "collapsed": true
   },
   "outputs": [],
   "source": []
  }
 ],
 "metadata": {
  "kernelspec": {
   "display_name": "Python 2",
   "language": "python",
   "name": "python2"
  },
  "language_info": {
   "codemirror_mode": {
    "name": "ipython",
    "version": 2
   },
   "file_extension": ".py",
   "mimetype": "text/x-python",
   "name": "python",
   "nbconvert_exporter": "python",
   "pygments_lexer": "ipython2",
   "version": "2.7.13"
  }
 },
 "nbformat": 4,
 "nbformat_minor": 2
}
